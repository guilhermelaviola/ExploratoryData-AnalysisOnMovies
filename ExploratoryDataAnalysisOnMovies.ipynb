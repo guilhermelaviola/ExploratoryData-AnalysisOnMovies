{
  "nbformat": 4,
  "nbformat_minor": 0,
  "metadata": {
    "colab": {
      "provenance": [],
      "authorship_tag": "ABX9TyOZbQRAtvPlLRr5QeT2WDH/",
      "include_colab_link": true
    },
    "kernelspec": {
      "name": "python3",
      "display_name": "Python 3"
    },
    "language_info": {
      "name": "python"
    }
  },
  "cells": [
    {
      "cell_type": "markdown",
      "metadata": {
        "id": "view-in-github",
        "colab_type": "text"
      },
      "source": [
        "<a href=\"https://colab.research.google.com/github/guilhermelaviola/ExploratoryDataAnalysisOnMovies/blob/main/ExploratoryDataAnalysisOnMovies.ipynb\" target=\"_parent\"><img src=\"https://colab.research.google.com/assets/colab-badge.svg\" alt=\"Open In Colab\"/></a>"
      ]
    },
    {
      "cell_type": "code",
      "execution_count": null,
      "metadata": {
        "id": "Z5UFBwo0B3lF"
      },
      "outputs": [],
      "source": [
        "# Importing all the necessary libraries:\n",
        "import pandas as pd\n",
        "import datetime as dt\n",
        "import requests\n",
        "import time\n",
        "from bs4 import BeautifulSoup"
      ]
    },
    {
      "cell_type": "code",
      "source": [
        "movie_dates_page = requests.get('https://www.moviefone.com/movies/1983/?page=1')\n",
        "soup = BeautifulSoup(movie_dates_page.content, 'lxml')\n",
        "movie_title = soup.find_all('a', class_ = 'hub-movie-title')\n",
        "movie_title"
      ],
      "metadata": {
        "colab": {
          "base_uri": "https://localhost:8080/"
        },
        "id": "T3H6EFdNCNEF",
        "outputId": "09073f4a-0102-4147-ac6b-219ead90bb7a"
      },
      "execution_count": null,
      "outputs": [
        {
          "output_type": "execute_result",
          "data": {
            "text/plain": [
              "[<a class=\"hub-movie-title\" href=\"https://www.moviefone.com/movie/fanny-and-alexander/lJBH8kPY6hkGBbqZnZgRU2/main/\" title=\"Fanny and Alexander\">Fanny and Alexander</a>,\n",
              " <a class=\"hub-movie-title\" href=\"https://www.moviefone.com/movie/the-right-stuff/4377/main/\" title=\"The Right Stuff\">The Right Stuff</a>,\n",
              " <a class=\"hub-movie-title\" href=\"https://www.moviefone.com/movie/scarface/7001/main/\" title=\"Scarface\">Scarface</a>,\n",
              " <a class=\"hub-movie-title\" href=\"https://www.moviefone.com/movie/michael-jacksons-thriller/1lCeAuvJU5iLATDFLgFXX6/main/\" title=\"Michael Jackson's Thriller\">Michael Jackson's Thriller</a>,\n",
              " <a class=\"hub-movie-title\" href=\"https://www.moviefone.com/movie/the-smurfs-and-the-magic-flute/20003097/main/\" title=\"The Smurfs and the Magic Flute\">The Smurfs and the Magic Flute</a>,\n",
              " <a class=\"hub-movie-title\" href=\"https://www.moviefone.com/movie/sleepaway-camp/10293/main/\" title=\"Sleepaway Camp\">Sleepaway Camp</a>,\n",
              " <a class=\"hub-movie-title\" href=\"https://www.moviefone.com/movie/a-christmas-story/5782/main/\" title=\"A Christmas Story\">A Christmas Story</a>,\n",
              " <a class=\"hub-movie-title\" href=\"https://www.moviefone.com/movie/cannibal-ferox/8yZOx11yfNh7l7G0k3Mn34/main/\" title=\"Cannibal Ferox\">Cannibal Ferox</a>,\n",
              " <a class=\"hub-movie-title\" href=\"https://www.moviefone.com/movie/the-prey/20003532/main/\" title=\"The Prey\">The Prey</a>,\n",
              " <a class=\"hub-movie-title\" href=\"https://www.moviefone.com/movie/all-the-right-moves/1000946/main/\" title=\"All the Right Moves\">All the Right Moves</a>,\n",
              " <a class=\"hub-movie-title\" href=\"https://www.moviefone.com/movie/rumble-fish/12523/main/\" title=\"Rumble Fish\">Rumble Fish</a>,\n",
              " <a class=\"hub-movie-title\" href=\"https://www.moviefone.com/movie/the-dead-zone/8094/main/\" title=\"The Dead Zone\">The Dead Zone</a>,\n",
              " <a class=\"hub-movie-title\" href=\"https://www.moviefone.com/movie/the-osterman-weekend/20003733/main/\" title=\"The Osterman Weekend\">The Osterman Weekend</a>,\n",
              " <a class=\"hub-movie-title\" href=\"https://www.moviefone.com/movie/never-say-never-again/29527/main/\" title=\"Never Say Never Again\">Never Say Never Again</a>,\n",
              " <a class=\"hub-movie-title\" href=\"https://www.moviefone.com/movie/the-big-chill/1045564/main/\" title=\"The Big Chill\">The Big Chill</a>,\n",
              " <a class=\"hub-movie-title\" href=\"https://www.moviefone.com/movie/merry-christmas-mr-lawrence/LQ8xohWOcq1XUu1tTZXIC1/main/\" title=\"Merry Christmas, Mr. Lawrence\">Merry Christmas, Mr. Lawrence</a>,\n",
              " <a class=\"hub-movie-title\" href=\"https://www.moviefone.com/movie/public-affairs/GGANkRuJNFqoLr4JW3GfT5/main/\" title=\"Public Affairs\">Public Affairs</a>,\n",
              " <a class=\"hub-movie-title\" href=\"https://www.moviefone.com/movie/fire-and-ice/1011885/main/\" title=\"Fire and Ice\">Fire and Ice</a>,\n",
              " <a class=\"hub-movie-title\" href=\"https://www.moviefone.com/movie/curse-of-the-pink-panther/36748/main/\" title=\"Curse of the Pink Panther\">Curse of the Pink Panther</a>,\n",
              " <a class=\"hub-movie-title\" href=\"https://www.moviefone.com/movie/cujo/17149/main/\" title=\"Cujo\">Cujo</a>,\n",
              " <a class=\"hub-movie-title\" href=\"https://www.moviefone.com/movie/risky-business/5432/main/\" title=\"Risky Business\">Risky Business</a>,\n",
              " <a class=\"hub-movie-title\" href=\"https://www.moviefone.com/movie/krull/11165/main/\" title=\"Krull\">Krull</a>,\n",
              " <a class=\"hub-movie-title\" href=\"https://www.moviefone.com/movie/private-school/1028037/main/\" title=\"Private School\">Private School</a>,\n",
              " <a class=\"hub-movie-title\" href=\"https://www.moviefone.com/movie/national-lampoons-vacation/887/main/\" title=\"National Lampoon's Vacation\">National Lampoon's Vacation</a>,\n",
              " <a class=\"hub-movie-title\" href=\"https://www.moviefone.com/movie/jaws-3-d/1018208/main/\" title=\"Jaws 3-D\">Jaws 3-D</a>,\n",
              " <a class=\"hub-movie-title\" href=\"https://www.moviefone.com/movie/zelig/10901/main/\" title=\"Zelig\">Zelig</a>,\n",
              " <a class=\"hub-movie-title\" href=\"https://www.moviefone.com/movie/staying-alive/25968/main/\" title=\"Staying Alive\">Staying Alive</a>,\n",
              " <a class=\"hub-movie-title\" href=\"https://www.moviefone.com/movie/twilight-zone-the-movie/34798/main/\" title=\"Twilight Zone: The Movie\">Twilight Zone: The Movie</a>,\n",
              " <a class=\"hub-movie-title\" href=\"https://www.moviefone.com/movie/superman-iii/1034338/main/\" title=\"Superman III\">Superman III</a>,\n",
              " <a class=\"hub-movie-title\" href=\"https://www.moviefone.com/movie/octopussy/29969/main/\" title=\"Octopussy\">Octopussy</a>,\n",
              " <a class=\"hub-movie-title\" href=\"https://www.moviefone.com/movie/trading-places/15441/main/\" title=\"Trading Places\">Trading Places</a>,\n",
              " <a class=\"hub-movie-title\" href=\"https://www.moviefone.com/movie/wargames/9994/main/\" title=\"WarGames\">WarGames</a>,\n",
              " <a class=\"hub-movie-title\" href=\"https://www.moviefone.com/movie/chained-heat/20003917/main/\" title=\"Chained Heat\">Chained Heat</a>,\n",
              " <a class=\"hub-movie-title\" href=\"https://www.moviefone.com/movie/return-of-the-jedi/20004360/main/\" title=\"Return of the Jedi\">Return of the Jedi</a>,\n",
              " <a class=\"hub-movie-title\" href=\"https://www.moviefone.com/movie/the-party/20003376/main/\" title=\"The Party\">The Party</a>,\n",
              " <a class=\"hub-movie-title\" href=\"https://www.moviefone.com/movie/blue-thunder/35076/main/\" title=\"Blue Thunder\">Blue Thunder</a>,\n",
              " <a class=\"hub-movie-title\" href=\"https://www.moviefone.com/movie/duel/31602/main/\" title=\"Duel\">Duel</a>,\n",
              " <a class=\"hub-movie-title\" href=\"https://www.moviefone.com/movie/lone-wolf-mcquade/39129/main/\" title=\"Lone Wolf McQuade\">Lone Wolf McQuade</a>,\n",
              " <a class=\"hub-movie-title\" href=\"https://www.moviefone.com/movie/flashdance/15931/main/\" title=\"Flashdance\">Flashdance</a>,\n",
              " <a class=\"hub-movie-title\" href=\"https://www.moviefone.com/movie/the-meaning-of-life/1368339/main/\" title=\"The Meaning of Life\">The Meaning of Life</a>,\n",
              " <a class=\"hub-movie-title\" href=\"https://www.moviefone.com/movie/the-outsiders/3469/main/\" title=\"The Outsiders\">The Outsiders</a>,\n",
              " <a class=\"hub-movie-title\" href=\"https://www.moviefone.com/movie/bad-boys/1002197/main/\" title=\"Bad Boys\">Bad Boys</a>,\n",
              " <a class=\"hub-movie-title\" href=\"https://www.moviefone.com/movie/my-tutor/wS2CrrjJuLSxcio6WydQD3/main/\" title=\"My Tutor\">My Tutor</a>,\n",
              " <a class=\"hub-movie-title\" href=\"https://www.moviefone.com/movie/starflight-the-plane-that-couldnt-land/1033445/main/\" title=\"Starflight: The Plane That Couldn't Land\">Starflight: The Plane That Couldn't Land</a>,\n",
              " <a class=\"hub-movie-title\" href=\"https://www.moviefone.com/movie/the-king-of-comedy/14047/main/\" title=\"The King of Comedy\">The King of Comedy</a>,\n",
              " <a class=\"hub-movie-title\" href=\"https://www.moviefone.com/movie/local-hero/7580/main/\" title=\"Local Hero\">Local Hero</a>,\n",
              " <a class=\"hub-movie-title\" href=\"https://www.moviefone.com/movie/videodrome/10487/main/\" title=\"Videodrome\">Videodrome</a>,\n",
              " <a class=\"hub-movie-title\" href=\"https://www.moviefone.com/movie/night-of-the-zombies/ej2oCL3AsuEkJEGofPh6i6/main/\" title=\"Night of the Zombies\">Night of the Zombies</a>]"
            ]
          },
          "metadata": {},
          "execution_count": 2
        }
      ]
    },
    {
      "cell_type": "code",
      "source": [
        "movie_dict = {'movies' : movie_list, 'release_date' : dates_list}\n",
        "dates_df = pd.DataFrame(data = movie_dict)\n",
        "\n",
        "# movie_lists and dates_list are previously constructed lists from webscraping."
      ],
      "metadata": {
        "id": "VeCKyn_ZGkCg"
      },
      "execution_count": null,
      "outputs": []
    },
    {
      "cell_type": "code",
      "source": [
        "# Data Cleaning:\n",
        "\n",
        "dates_df['release_date'] =\n",
        "pd.to_datetime(movie_releases_df['release_date'], format = '%B%d, %Y')\n",
        "\n",
        "dates_df['release_month'] =\n",
        "dates_df['release_date'].map(lambda z : z.strftime('%B'))\n",
        "\n",
        "dates_df['release_day'] =\n",
        "dates.df['release_date'].map(lambda z : z.strftime('%Y'))\n",
        "\n",
        "dates_df['release_year'] =\n",
        "dates_df['release_date'].map(lambda z : z.strftime('%Y'))\n",
        "\n",
        "dates_df['release_year'] =\n",
        "dates_df['release_year'].astype(int)"
      ],
      "metadata": {
        "id": "zsRJcgqUHgnu"
      },
      "execution_count": null,
      "outputs": []
    },
    {
      "cell_type": "code",
      "source": [
        "# Which actors and directors bring the most value to a movie?\n",
        "actor_counts = actors_df['value'].value_counts()\n",
        "actor_list = actor_counts[actor_counts >= 10].index.tolist()\n",
        "actors_df = actors_df[actor_df['value'].isin(actor_list)]"
      ],
      "metadata": {
        "id": "glTFHytszPJ8"
      },
      "execution_count": null,
      "outputs": []
    }
  ]
}